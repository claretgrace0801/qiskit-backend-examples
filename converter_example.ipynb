{
 "cells": [
  {
   "cell_type": "code",
   "execution_count": 1,
   "id": "fb8b4f3a",
   "metadata": {},
   "outputs": [],
   "source": [
    "import numpy as np\n",
    "from qiskit import QuantumCircuit, QuantumRegister\n",
    "import qiskit\n",
    "from qiskit import Aer\n",
    "from qiskit.visualization import plot_state_city, plot_histogram\n",
    "\n",
    "from qutip_qip.qiskit import Provider"
   ]
  },
  {
   "cell_type": "code",
   "execution_count": 2,
   "id": "43a446df",
   "metadata": {},
   "outputs": [],
   "source": [
    "provider = Provider()"
   ]
  },
  {
   "cell_type": "code",
   "execution_count": 3,
   "id": "cccfe222",
   "metadata": {},
   "outputs": [],
   "source": [
    "circ = QuantumCircuit(2,2)\n",
    "circ.h(0)\n",
    "circ.h(1)\n",
    "circ.measure_all()"
   ]
  },
  {
   "cell_type": "code",
   "execution_count": 4,
   "id": "e3669236",
   "metadata": {},
   "outputs": [
    {
     "data": {
      "text/html": [
       "<pre style=\"word-wrap: normal;white-space: pre;background: #fff0;line-height: 1.1;font-family: &quot;Courier New&quot;,Courier,monospace\">        ┌───┐ ░ ┌─┐   \n",
       "   q_0: ┤ H ├─░─┤M├───\n",
       "        ├───┤ ░ └╥┘┌─┐\n",
       "   q_1: ┤ H ├─░──╫─┤M├\n",
       "        └───┘ ░  ║ └╥┘\n",
       "   c: 2/═════════╬══╬═\n",
       "                 ║  ║ \n",
       "meas: 2/═════════╩══╩═\n",
       "                 0  1 </pre>"
      ],
      "text/plain": [
       "        ┌───┐ ░ ┌─┐   \n",
       "   q_0: ┤ H ├─░─┤M├───\n",
       "        ├───┤ ░ └╥┘┌─┐\n",
       "   q_1: ┤ H ├─░──╫─┤M├\n",
       "        └───┘ ░  ║ └╥┘\n",
       "   c: 2/═════════╬══╬═\n",
       "                 ║  ║ \n",
       "meas: 2/═════════╩══╩═\n",
       "                 0  1 "
      ]
     },
     "execution_count": 4,
     "metadata": {},
     "output_type": "execute_result"
    }
   ],
   "source": [
    "circ.draw()"
   ]
  },
  {
   "cell_type": "code",
   "execution_count": 5,
   "id": "e65d3083",
   "metadata": {},
   "outputs": [],
   "source": [
    "# on qutip backend\n",
    "backend = provider.get_backend(\"circuit_simulator\")\n",
    "job = backend.run(circ)\n",
    "result = job.result()"
   ]
  },
  {
   "cell_type": "code",
   "execution_count": 6,
   "id": "6b66cd92",
   "metadata": {},
   "outputs": [
    {
     "data": {
      "text/plain": [
       "{'counts': {'0x0': 0.25, '0x1': 0.25, '0x2': 0.25, '0x3': 0.25},\n",
       " 'statevector': Statevector([0.+0.j, 0.+0.j, 1.+0.j, 0.+0.j],\n",
       "             dims=(2, 2))}"
      ]
     },
     "execution_count": 6,
     "metadata": {},
     "output_type": "execute_result"
    }
   ],
   "source": [
    "result.data()"
   ]
  },
  {
   "cell_type": "code",
   "execution_count": 7,
   "id": "576a3180",
   "metadata": {},
   "outputs": [
    {
     "data": {
      "image/png": "[encoded data removed]",
      "text/plain": [
       "<Figure size 504x360 with 1 Axes>"
      ]
     },
     "execution_count": 7,
     "metadata": {},
     "output_type": "execute_result"
    }
   ],
   "source": [
    "plot_histogram(result.get_counts())"
   ]
  },
  {
   "cell_type": "code",
   "execution_count": 8,
   "id": "97897e30",
   "metadata": {},
   "outputs": [],
   "source": [
    "# on qiskit backend\n",
    "\n",
    "qiskit_backend = Aer.get_backend(\"statevector_simulator\")\n",
    "qiskit_job = qiskit_backend.run(circ, shots=100)\n",
    "qiskit_result = qiskit_job.result()"
   ]
  },
  {
   "cell_type": "code",
   "execution_count": 9,
   "id": "79801010",
   "metadata": {},
   "outputs": [
    {
     "data": {
      "text/plain": [
       "{'counts': {'0xc': 21, '0x4': 25, '0x8': 29, '0x0': 25},\n",
       " 'statevector': Statevector([1.+0.j, 0.+0.j, 0.+0.j, 0.+0.j],\n",
       "             dims=(2, 2))}"
      ]
     },
     "execution_count": 9,
     "metadata": {},
     "output_type": "execute_result"
    }
   ],
   "source": [
    "qiskit_result.data()"
   ]
  },
  {
   "cell_type": "code",
   "execution_count": 10,
   "id": "b498b2d4",
   "metadata": {},
   "outputs": [
    {
     "data": {
      "image/png": "[encoded data removed]",
      "text/plain": [
       "<Figure size 504x360 with 1 Axes>"
      ]
     },
     "execution_count": 10,
     "metadata": {},
     "output_type": "execute_result"
    }
   ],
   "source": [
    "plot_histogram(qiskit_result.get_counts())"
   ]
  },
  {
   "cell_type": "code",
   "execution_count": null,
   "id": "c05be999",
   "metadata": {},
   "outputs": [],
   "source": []
  }
 ],
 "metadata": {
  "kernelspec": {
   "display_name": "qip",
   "language": "python",
   "name": "qip"
  },
  "language_info": {
   "codemirror_mode": {
    "name": "ipython",
    "version": 3
   },
   "file_extension": ".py",
   "mimetype": "text/x-python",
   "name": "python",
   "nbconvert_exporter": "python",
   "pygments_lexer": "ipython3",
   "version": "3.8.10"
  }
 },
 "nbformat": 4,
 "nbformat_minor": 5
}
